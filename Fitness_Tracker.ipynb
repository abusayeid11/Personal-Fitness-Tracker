{
  "nbformat": 4,
  "nbformat_minor": 0,
  "metadata": {
    "colab": {
      "provenance": []
    },
    "kernelspec": {
      "name": "python3",
      "display_name": "Python 3"
    },
    "language_info": {
      "name": "python"
    }
  },
  "cells": [
    {
      "cell_type": "markdown",
      "source": [
        "**Modules**"
      ],
      "metadata": {
        "id": "HI6K2siP_OGt"
      }
    },
    {
      "cell_type": "code",
      "execution_count": null,
      "metadata": {
        "id": "9_cUVUjBSTnU"
      },
      "outputs": [],
      "source": [
        "import csv\n",
        "import os\n",
        "from datetime import datetime\n",
        "import matplotlib.pyplot as plt"
      ]
    },
    {
      "cell_type": "markdown",
      "source": [
        "**Writing data to CSV files**"
      ],
      "metadata": {
        "id": "R077X5g9_eO9"
      }
    },
    {
      "cell_type": "code",
      "source": [
        "def save_csv(file_name, data, headers):\n",
        "  #check is the file already exists\n",
        "    file_exists = os.path.isfile(file_name)\n",
        "\n",
        "  #open csv file in append mode\n",
        "    with open(file_name, 'a', newline='') as csvfile:\n",
        "        writer = csv.DictWriter(csvfile, fieldnames=headers)\n",
        "        #if new file is created write headers\n",
        "        if not file_exists:\n",
        "            writer.writeheader()\n",
        "        #write data\n",
        "        writer.writerow(data)"
      ],
      "metadata": {
        "id": "1hwaR6sNU1ze"
      },
      "execution_count": null,
      "outputs": []
    },
    {
      "cell_type": "markdown",
      "source": [
        "**Reading data from CSV files**"
      ],
      "metadata": {
        "id": "0t-BPnY6_NFV"
      }
    },
    {
      "cell_type": "code",
      "source": [
        "def load_csv(file_name):\n",
        "  #check if the file exists\n",
        "    if not os.path.isfile(file_name):\n",
        "        return []\n",
        "    with open(file_name, 'r') as csvfile:\n",
        "        reader = csv.DictReader(csvfile)\n",
        "        #return as a list\n",
        "        return list(reader)"
      ],
      "metadata": {
        "id": "vKY4b85dU411"
      },
      "execution_count": null,
      "outputs": []
    },
    {
      "cell_type": "markdown",
      "source": [
        "**User input for new activity and storing**"
      ],
      "metadata": {
        "id": "a-YSoWsh_5Yj"
      }
    },
    {
      "cell_type": "code",
      "source": [
        "def log_activity():\n",
        "    # Get the current date in the format 'YYYY-MM-DD'\n",
        "    date = datetime.now().strftime('%Y-%m-%d')\n",
        "\n",
        "    # Prompt the user to input the activity name\n",
        "    activity = input(\"Enter Activity Name: \")\n",
        "\n",
        "    # Prompt the user to input the duration of the activity in minutes\n",
        "    duration = int(input(\"Enter Activity Duration in Minutes: \"))\n",
        "\n",
        "    # Prompt the user to input the number of calories burned\n",
        "    calories = int(input(\"Enter Calories Burned: \"))\n",
        "\n",
        "    # Call the `save_csv` function to save the activity log to a CSV file\n",
        "    save_csv(\n",
        "        'fitness_tracker.csv',  # File name where the data will be saved\n",
        "        {  # Dictionary containing the activity data\n",
        "            'Date': date,\n",
        "            'Activity': activity,\n",
        "            'Duration': duration,\n",
        "            'Calories': calories\n",
        "        },\n",
        "        ['Date', 'Activity', 'Duration', 'Calories']  # List of column headers for the CSV file\n",
        "    )"
      ],
      "metadata": {
        "id": "-QnZEYLcU8H9"
      },
      "execution_count": null,
      "outputs": []
    },
    {
      "cell_type": "markdown",
      "source": [
        "**View existing activities from CSV file**"
      ],
      "metadata": {
        "id": "vBkQlyJ5AFhS"
      }
    },
    {
      "cell_type": "code",
      "source": [
        "def view_activity():\n",
        "    # Load the activity data from the CSV file using the `load_csv` function\n",
        "    activities = load_csv('fitness_tracker.csv')\n",
        "\n",
        "    # Check if the `activities` list is empty\n",
        "    if not activities:\n",
        "        # If no activities are found, print a message and exit the function\n",
        "        print(\"No past activity found.\\n\")\n",
        "        return\n",
        "\n",
        "    # Print a header for the list of past activities\n",
        "    print(\"Past Activities: \")\n",
        "\n",
        "    # Loop through each activity in the `activities` list\n",
        "    for activity in activities:\n",
        "        # Print the details of each activity in a formatted string\n",
        "        print(f\"{activity['Date']}: {activity['Activity']} - {activity['Duration']} mins, {activity['Calories']} cal\")\n",
        "\n",
        "    # Print an empty line for better readability\n",
        "    print()"
      ],
      "metadata": {
        "id": "gqMQpewlU_bm"
      },
      "execution_count": null,
      "outputs": []
    },
    {
      "cell_type": "markdown",
      "source": [
        "**User input to new goal and write to CSV file**"
      ],
      "metadata": {
        "id": "PP1266bOAQTa"
      }
    },
    {
      "cell_type": "code",
      "source": [
        "def set_goals():\n",
        "    # Prompt the user to input their weekly exercise goal in minutes\n",
        "    weekly_minutes = int(input(\"Set weekly exercise goal (in minutes): \"))\n",
        "\n",
        "    # Prompt the user to input their daily calorie burn goal\n",
        "    daily_calories = int(input(\"Set daily calorie burn goal: \"))\n",
        "\n",
        "    # Save the goals to a CSV file using the `save_csv` function\n",
        "    save_csv(\n",
        "        'goals.csv',  # File name where the goals will be saved\n",
        "        {  # Dictionary containing the goals\n",
        "            'Weekly Minutes': weekly_minutes,\n",
        "            'Daily Calories': daily_calories\n",
        "        },\n",
        "        ['Weekly Minutes', 'Daily Calories']  # List of column headers for the CSV file\n",
        "    )\n",
        "\n",
        "    # Print a success message to confirm that the goals have been set\n",
        "    print(\"Goals set successfully!\\n\")"
      ],
      "metadata": {
        "id": "p6HLl-OBVB0e"
      },
      "execution_count": null,
      "outputs": []
    },
    {
      "cell_type": "markdown",
      "source": [
        "**Progress analysis for existing goals**"
      ],
      "metadata": {
        "id": "yB2NAAd8AcNi"
      }
    },
    {
      "cell_type": "code",
      "source": [
        "def view_progress():\n",
        "    # Load data from the  CSV file\n",
        "    activities = load_csv('fitness_tracker.csv')\n",
        "\n",
        "    goals = load_csv('goals.csv')\n",
        "\n",
        "    # Check if there are no activities or goals to analyze\n",
        "    if not activities:\n",
        "        print(\"No activities to analyze progress.\\n\")\n",
        "        return\n",
        "\n",
        "    if not goals:\n",
        "        print(\"No goals set to compare progress.\\n\")\n",
        "        return\n",
        "\n",
        "    # Get the most recent set of goals (last row in the goals CSV)\n",
        "    goals = goals[-1]\n",
        "\n",
        "    # Extract the weekly exercise and calory goal in minutes\n",
        "    weekly_goal = int(goals['Weekly Minutes'])\n",
        "\n",
        "    daily_cal_goal = int(goals['Daily Calories'])\n",
        "\n",
        "    # Calculate weekly activity duration\n",
        "    weekly_data = {}\n",
        "    for activity in activities:\n",
        "        # Extract the week number from the activity date\n",
        "        week = datetime.strptime(activity['Date'], '%Y-%m-%d').isocalendar()[1]\n",
        "\n",
        "        # Add the activity duration to the corresponding week in the dictionary\n",
        "        weekly_data[week] = weekly_data.get(week, 0) + int(activity['Duration'])\n",
        "\n",
        "    # Print weekly progress\n",
        "    print(\"Weekly Progress:\")\n",
        "    for week, duration in weekly_data.items():\n",
        "        print(f\"Week {week}: {duration} minutes (Goal: {weekly_goal})\")\n",
        "\n",
        "    # Calculate daily calorie burn\n",
        "    daily_data = {}\n",
        "    for activity in activities:\n",
        "        # Extract the date of the activity\n",
        "        day = activity['Date']\n",
        "\n",
        "        # Add the calories burned to the corresponding day in the dictionary\n",
        "        daily_data[day] = daily_data.get(day, 0) + int(activity['Calories'])\n",
        "\n",
        "    # Print daily progress\n",
        "    print(\"\\nDaily Progress:\")\n",
        "    for day, calories in daily_data.items():\n",
        "        print(f\"{day}: {calories} calories (Goal: {daily_cal_goal})\")\n",
        "\n",
        "    # Plot weekly progress\n",
        "    plot_progress(weekly_data, \"Weekly Activity (Minutes)\")\n",
        "\n",
        "    plot_progress(daily_data, \"Daily Calories Burned\")"
      ],
      "metadata": {
        "id": "yHLeF7_8VPF9"
      },
      "execution_count": null,
      "outputs": []
    },
    {
      "cell_type": "markdown",
      "source": [
        "**Data visualization**"
      ],
      "metadata": {
        "id": "9KpyNcRZAmfZ"
      }
    },
    {
      "cell_type": "code",
      "source": [
        "def plot_progress(data, title):\n",
        "    # Clear any previous plots to ensure a clean slate\n",
        "    plt.clf()\n",
        "\n",
        "    # Create a bar plot\n",
        "    plt.bar(data.keys(), data.values(), color='skyblue')\n",
        "\n",
        "    # Set the title of the plot\n",
        "    plt.title(title)\n",
        "\n",
        "    # Label the x-axis as \"Time\"\n",
        "    plt.xlabel(\"Time\")\n",
        "\n",
        "    # Label the y-axis as \"Value\"\n",
        "    plt.ylabel(\"Value\")\n",
        "\n",
        "    # Display the plot\n",
        "    plt.show()"
      ],
      "metadata": {
        "id": "C0RfzhM3VWXN"
      },
      "execution_count": null,
      "outputs": []
    },
    {
      "cell_type": "markdown",
      "source": [
        "**User navigation with menu**"
      ],
      "metadata": {
        "id": "CFyhsOM7As0a"
      }
    },
    {
      "cell_type": "code",
      "source": [
        "def main():\n",
        "    # Start an infinite loop to keep the program running until the user chooses to exit\n",
        "    while True:\n",
        "        # Display the main menu options\n",
        "        print(\"Personal Fitness Tracker\")\n",
        "        print(\"1. Log a new activity\")\n",
        "        print(\"2. View activity history\")\n",
        "        print(\"3. Set and update fitness goals\")\n",
        "        print(\"4. View progress reports\")\n",
        "        print(\"5. Exit\")\n",
        "\n",
        "        # Prompt the user to enter their choice\n",
        "        choice = input(\"Enter your choice: \")\n",
        "\n",
        "        # Handle the user's choice\n",
        "        if choice == '1':\n",
        "            log_activity()\n",
        "        elif choice == '2':\n",
        "            view_activity()\n",
        "        elif choice == '3':\n",
        "            set_goals()\n",
        "        elif choice == '4':\n",
        "            view_progress()\n",
        "        elif choice == '5':\n",
        "            # If the user chooses option 5, print an exit message and break the loop\n",
        "            print(\"Exiting tracker. Stay fit!\")\n",
        "            break\n",
        "        else:\n",
        "            # If the user enters an invalid choice, display an error message\n",
        "            print(\"Invalid choice. Please try again.\\n\")"
      ],
      "metadata": {
        "id": "_0V7wwKOVbQ2"
      },
      "execution_count": null,
      "outputs": []
    },
    {
      "cell_type": "code",
      "source": [
        "main()"
      ],
      "metadata": {
        "colab": {
          "base_uri": "https://localhost:8080/",
          "height": 1000
        },
        "id": "4U3FyTHqVcX1",
        "outputId": "1dfa5b96-f4c9-4499-95de-644b82e888b3"
      },
      "execution_count": null,
      "outputs": [
        {
          "output_type": "stream",
          "name": "stdout",
          "text": [
            "Personal Fitness Tracker\n",
            "1. Log a new activity\n",
            "2. View activity history\n",
            "3. Set and update fitness goals\n",
            "4. View progress reports\n",
            "5. Exit\n",
            "Enter your choice: 4\n",
            "Weekly Progress:\n",
            "Week 1: 620 minutes (Goal: 300)\n",
            "Week 2: 965 minutes (Goal: 300)\n",
            "Week 3: 915 minutes (Goal: 300)\n",
            "Week 4: 725 minutes (Goal: 300)\n",
            "\n",
            "Daily Progress:\n",
            "2025-01-01: 900 calories (Goal: 3000)\n",
            "2025-01-02: 720 calories (Goal: 3000)\n",
            "2025-01-03: 930 calories (Goal: 3000)\n",
            "2025-01-04: 1050 calories (Goal: 3000)\n",
            "2025-01-05: 950 calories (Goal: 3000)\n",
            "2025-01-06: 1170 calories (Goal: 3000)\n",
            "2025-01-07: 950 calories (Goal: 3000)\n",
            "2025-01-08: 1000 calories (Goal: 3000)\n",
            "2025-01-09: 1150 calories (Goal: 3000)\n",
            "2025-01-10: 980 calories (Goal: 3000)\n",
            "2025-01-11: 1020 calories (Goal: 3000)\n",
            "2025-01-12: 1160 calories (Goal: 3000)\n",
            "2025-01-13: 940 calories (Goal: 3000)\n",
            "2025-01-14: 1140 calories (Goal: 3000)\n",
            "2025-01-15: 930 calories (Goal: 3000)\n",
            "2025-01-16: 1000 calories (Goal: 3000)\n",
            "2025-01-17: 1020 calories (Goal: 3000)\n",
            "2025-01-18: 1150 calories (Goal: 3000)\n",
            "2025-01-19: 940 calories (Goal: 3000)\n",
            "2025-01-20: 1040 calories (Goal: 3000)\n",
            "2025-01-21: 1170 calories (Goal: 3000)\n",
            "2025-01-22: 1130 calories (Goal: 3000)\n",
            "2025-01-23: 1180 calories (Goal: 3000)\n",
            "2025-01-24: 1230 calories (Goal: 3000)\n"
          ]
        },
        {
          "output_type": "display_data",
          "data": {
            "text/plain": [
              "<Figure size 640x480 with 1 Axes>"
            ],
            "image/png": "[encoded data removed]"
          },
          "metadata": {}
        },
        {
          "output_type": "display_data",
          "data": {
            "text/plain": [
              "<Figure size 640x480 with 1 Axes>"
            ],
            "image/png": "[encoded data removed]"
          },
          "metadata": {}
        },
        {
          "output_type": "stream",
          "name": "stdout",
          "text": [
            "Personal Fitness Tracker\n",
            "1. Log a new activity\n",
            "2. View activity history\n",
            "3. Set and update fitness goals\n",
            "4. View progress reports\n",
            "5. Exit\n",
            "Enter your choice: 5\n",
            "Exiting tracker. Stay fit!\n"
          ]
        }
      ]
    },
    {
      "cell_type": "code",
      "source": [],
      "metadata": {
        "id": "wL6A-hKpV-B1"
      },
      "execution_count": null,
      "outputs": []
    }
  ]
}